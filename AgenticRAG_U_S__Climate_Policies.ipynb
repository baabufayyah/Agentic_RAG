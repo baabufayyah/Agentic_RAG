{
  "nbformat": 4,
  "nbformat_minor": 0,
  "metadata": {
    "colab": {
      "provenance": []
    },
    "kernelspec": {
      "name": "python3",
      "display_name": "Python 3"
    },
    "language_info": {
      "name": "python"
    }
  },
  "cells": [
    {
      "cell_type": "markdown",
      "source": [
        "### Install aixplain SDK"
      ],
      "metadata": {
        "id": "UELCayfsS7sV"
      }
    },
    {
      "cell_type": "code",
      "execution_count": 38,
      "metadata": {
        "colab": {
          "base_uri": "https://localhost:8080/"
        },
        "id": "PtDC-jcqxZk1",
        "outputId": "3489bc71-7509-4e82-cd1d-f887b51aff55"
      },
      "outputs": [
        {
          "output_type": "stream",
          "name": "stdout",
          "text": [
            "Requirement already satisfied: aixplain in /usr/local/lib/python3.11/dist-packages (0.2.31)\n",
            "Requirement already satisfied: requests>=2.1.0 in /usr/local/lib/python3.11/dist-packages (from aixplain) (2.32.3)\n",
            "Requirement already satisfied: tqdm>=4.1.0 in /usr/local/lib/python3.11/dist-packages (from aixplain) (4.67.1)\n",
            "Requirement already satisfied: pandas>=1.2.1 in /usr/local/lib/python3.11/dist-packages (from aixplain) (2.2.2)\n",
            "Requirement already satisfied: python-dotenv>=1.0.0 in /usr/local/lib/python3.11/dist-packages (from aixplain) (1.1.0)\n",
            "Requirement already satisfied: validators>=0.20.0 in /usr/local/lib/python3.11/dist-packages (from aixplain) (0.35.0)\n",
            "Requirement already satisfied: filetype>=1.2.0 in /usr/local/lib/python3.11/dist-packages (from aixplain) (1.2.0)\n",
            "Requirement already satisfied: click>=7.1.2 in /usr/local/lib/python3.11/dist-packages (from aixplain) (8.2.1)\n",
            "Requirement already satisfied: PyYAML>=6.0.1 in /usr/local/lib/python3.11/dist-packages (from aixplain) (6.0.2)\n",
            "Requirement already satisfied: dataclasses-json>=0.5.2 in /usr/local/lib/python3.11/dist-packages (from aixplain) (0.6.7)\n",
            "Requirement already satisfied: Jinja2==3.1.6 in /usr/local/lib/python3.11/dist-packages (from aixplain) (3.1.6)\n",
            "Requirement already satisfied: sentry-sdk>=1.0.0 in /usr/local/lib/python3.11/dist-packages (from aixplain) (2.29.1)\n",
            "Requirement already satisfied: pydantic>=2.10.6 in /usr/local/lib/python3.11/dist-packages (from aixplain) (2.11.5)\n",
            "Requirement already satisfied: MarkupSafe>=2.0 in /usr/local/lib/python3.11/dist-packages (from Jinja2==3.1.6->aixplain) (3.0.2)\n",
            "Requirement already satisfied: marshmallow<4.0.0,>=3.18.0 in /usr/local/lib/python3.11/dist-packages (from dataclasses-json>=0.5.2->aixplain) (3.26.1)\n",
            "Requirement already satisfied: typing-inspect<1,>=0.4.0 in /usr/local/lib/python3.11/dist-packages (from dataclasses-json>=0.5.2->aixplain) (0.9.0)\n",
            "Requirement already satisfied: numpy>=1.23.2 in /usr/local/lib/python3.11/dist-packages (from pandas>=1.2.1->aixplain) (2.0.2)\n",
            "Requirement already satisfied: python-dateutil>=2.8.2 in /usr/local/lib/python3.11/dist-packages (from pandas>=1.2.1->aixplain) (2.9.0.post0)\n",
            "Requirement already satisfied: pytz>=2020.1 in /usr/local/lib/python3.11/dist-packages (from pandas>=1.2.1->aixplain) (2025.2)\n",
            "Requirement already satisfied: tzdata>=2022.7 in /usr/local/lib/python3.11/dist-packages (from pandas>=1.2.1->aixplain) (2025.2)\n",
            "Requirement already satisfied: annotated-types>=0.6.0 in /usr/local/lib/python3.11/dist-packages (from pydantic>=2.10.6->aixplain) (0.7.0)\n",
            "Requirement already satisfied: pydantic-core==2.33.2 in /usr/local/lib/python3.11/dist-packages (from pydantic>=2.10.6->aixplain) (2.33.2)\n",
            "Requirement already satisfied: typing-extensions>=4.12.2 in /usr/local/lib/python3.11/dist-packages (from pydantic>=2.10.6->aixplain) (4.14.0)\n",
            "Requirement already satisfied: typing-inspection>=0.4.0 in /usr/local/lib/python3.11/dist-packages (from pydantic>=2.10.6->aixplain) (0.4.1)\n",
            "Requirement already satisfied: charset-normalizer<4,>=2 in /usr/local/lib/python3.11/dist-packages (from requests>=2.1.0->aixplain) (3.4.2)\n",
            "Requirement already satisfied: idna<4,>=2.5 in /usr/local/lib/python3.11/dist-packages (from requests>=2.1.0->aixplain) (3.10)\n",
            "Requirement already satisfied: urllib3<3,>=1.21.1 in /usr/local/lib/python3.11/dist-packages (from requests>=2.1.0->aixplain) (2.4.0)\n",
            "Requirement already satisfied: certifi>=2017.4.17 in /usr/local/lib/python3.11/dist-packages (from requests>=2.1.0->aixplain) (2025.4.26)\n",
            "Requirement already satisfied: packaging>=17.0 in /usr/local/lib/python3.11/dist-packages (from marshmallow<4.0.0,>=3.18.0->dataclasses-json>=0.5.2->aixplain) (24.2)\n",
            "Requirement already satisfied: six>=1.5 in /usr/local/lib/python3.11/dist-packages (from python-dateutil>=2.8.2->pandas>=1.2.1->aixplain) (1.17.0)\n",
            "Requirement already satisfied: mypy-extensions>=0.3.0 in /usr/local/lib/python3.11/dist-packages (from typing-inspect<1,>=0.4.0->dataclasses-json>=0.5.2->aixplain) (1.1.0)\n"
          ]
        }
      ],
      "source": [
        "!pip install aixplain"
      ]
    },
    {
      "cell_type": "markdown",
      "source": [
        "Set API Key for Authentication"
      ],
      "metadata": {
        "id": "Mxr2clAQTDXa"
      }
    },
    {
      "cell_type": "code",
      "source": [
        "import os\n",
        "os.environ[\"TEAM_API_KEY\"] = \"64958c6dd8750fb6b244d70fca8a2197d92f88f1fe1bad1a7686a4ab30f1d14b\""
      ],
      "metadata": {
        "id": "dSihORmdxkKy"
      },
      "execution_count": 39,
      "outputs": []
    },
    {
      "cell_type": "markdown",
      "source": [
        "Import aixplain Modules"
      ],
      "metadata": {
        "id": "0FovQ7SsTJrW"
      }
    },
    {
      "cell_type": "code",
      "source": [
        "from aixplain.factories import AgentFactory, ModelFactory, IndexFactory\n",
        "from aixplain.modules.model.record import Record"
      ],
      "metadata": {
        "id": "-5xinooOxndd"
      },
      "execution_count": 40,
      "outputs": []
    },
    {
      "cell_type": "markdown",
      "source": [
        "### Clone Climate Policy Dataset from GitHub"
      ],
      "metadata": {
        "id": "jBYFp811TNuF"
      }
    },
    {
      "cell_type": "code",
      "source": [
        "!git clone https://github.com/HUANGZHIHAO1994/GCCMPD-climate-policy-dataset.git"
      ],
      "metadata": {
        "colab": {
          "base_uri": "https://localhost:8080/"
        },
        "id": "zPRXojecxsHm",
        "outputId": "50721746-c2f9-4bc3-fd17-a79323cbd46a"
      },
      "execution_count": 41,
      "outputs": [
        {
          "output_type": "stream",
          "name": "stdout",
          "text": [
            "fatal: destination path 'GCCMPD-climate-policy-dataset' already exists and is not an empty directory.\n"
          ]
        }
      ]
    },
    {
      "cell_type": "markdown",
      "source": [
        "Load and Filter Climate Policy Data"
      ],
      "metadata": {
        "id": "zvjzmfXvTUdo"
      }
    },
    {
      "cell_type": "code",
      "source": [
        "import pandas as pd\n",
        "\n",
        "file_path = \"/content/GCCMPD-climate-policy-dataset/code and files/data/ALL_POLICIES_EN.xlsx\"\n",
        "df = pd.read_excel(file_path)\n",
        "df = df[df[\"Policy_Content_raw\"].notnull()]\n",
        "df = df[df[\"ISO_code\"] == \"USA\"]  # USA policies only"
      ],
      "metadata": {
        "id": "V_uYrYTixuYK"
      },
      "execution_count": 42,
      "outputs": []
    },
    {
      "cell_type": "markdown",
      "source": [
        "Create Formatted Text Field for Each Policy"
      ],
      "metadata": {
        "id": "RfEjGBVnTcSA"
      }
    },
    {
      "cell_type": "code",
      "source": [
        "# === Create Text Column ===\n",
        "df[\"text\"] = df.apply(\n",
        "    lambda row: f\"\"\"Policy: {row['Policy_raw']}\n",
        "Year: {row['Year']}\n",
        "Scope: {row['Scope']}\n",
        "Region: {row['IPCC_Region']}\n",
        "Country Code: {row['ISO_code']}\n",
        "Content: {row['Policy_Content_raw']}\"\"\",\n",
        "    axis=1\n",
        ")"
      ],
      "metadata": {
        "colab": {
          "base_uri": "https://localhost:8080/"
        },
        "id": "G7zrZqMjx3JD",
        "outputId": "3c994790-b1ba-4284-c80a-0943c3d1f0dd"
      },
      "execution_count": 43,
      "outputs": [
        {
          "output_type": "stream",
          "name": "stderr",
          "text": [
            "<ipython-input-43-3146539208>:2: SettingWithCopyWarning: \n",
            "A value is trying to be set on a copy of a slice from a DataFrame.\n",
            "Try using .loc[row_indexer,col_indexer] = value instead\n",
            "\n",
            "See the caveats in the documentation: https://pandas.pydata.org/pandas-docs/stable/user_guide/indexing.html#returning-a-view-versus-a-copy\n",
            "  df[\"text\"] = df.apply(\n"
          ]
        }
      ]
    },
    {
      "cell_type": "markdown",
      "source": [
        "### Scrape and Index EPA Pages"
      ],
      "metadata": {
        "id": "Pvl3kur-TlCN"
      }
    },
    {
      "cell_type": "code",
      "source": [
        "for idx in IndexFactory.list(query=\"EPA Climate Policies\")[\"results\"]:\n",
        "    idx.delete()\n",
        "\n",
        "epa_index = IndexFactory.create( # create new index for EPA pages\n",
        "    \"EPA Climate Policies\",\n",
        "    \"Index of EPA climate change regulations and guidance\"\n",
        ")\n",
        "\n",
        "epa_urls = [ # list of EPA URLs to scrape\n",
        "    \"https://www.epa.gov/climate-change\",\n",
        "    \"https://www.epa.gov/statelocalenergy/state-climate-policy\",\n",
        "    \"https://www.epa.gov/ghgemissions\",\n",
        "    \"https://www.epa.gov/international-cooperation/climate-partnerships\",\n",
        "    \"https://www.epa.gov/climate-indicators\",\n",
        "    \"https://www.epa.gov/climate-adaptation\"\n",
        "]\n",
        "\n",
        "scraper = ModelFactory.get(\"66f423426eb563fa213a3531\") # scrape each URL and index content\n",
        "\n",
        "for url in epa_urls:\n",
        "    try:\n",
        "        result = scraper.run({\"text\": url})\n",
        "\n",
        "        if result.data and isinstance(result.data, str) and result.data.strip():\n",
        "            epa_index.upsert([Record(value=result.data)])\n",
        "            print(f\"✅ Indexed: {url}\")\n",
        "        else:\n",
        "            print(f\"⚠️ Skipped (no content returned): {url}\")\n",
        "\n",
        "    except Exception as e:\n",
        "        print(f\"❌ Failed on {url}: {e}\")"
      ],
      "metadata": {
        "colab": {
          "base_uri": "https://localhost:8080/"
        },
        "id": "jLCk838lx315",
        "outputId": "407b9f52-48ea-41af-9421-4e0727118530"
      },
      "execution_count": 44,
      "outputs": [
        {
          "output_type": "stream",
          "name": "stderr",
          "text": [
            "ERROR:root:Error in request: Expecting value: line 1 column 1 (char 0)\n",
            "ERROR:root:Error in request: 504: NetworkError [ErrorCode.AX_NET_ERROR]: Gateway timeout: Please try again later. Details: unspecified error\n"
          ]
        },
        {
          "output_type": "stream",
          "name": "stdout",
          "text": [
            "⚠️ Skipped (no content returned): https://www.epa.gov/climate-change\n",
            "✅ Indexed: https://www.epa.gov/statelocalenergy/state-climate-policy\n",
            "✅ Indexed: https://www.epa.gov/ghgemissions\n",
            "✅ Indexed: https://www.epa.gov/international-cooperation/climate-partnerships\n",
            "✅ Indexed: https://www.epa.gov/climate-indicators\n",
            "✅ Indexed: https://www.epa.gov/climate-adaptation\n"
          ]
        }
      ]
    },
    {
      "cell_type": "markdown",
      "source": [
        "### Save Full and Lightweight CSV Versions for SQL Tool"
      ],
      "metadata": {
        "id": "cg4bC4deURWl"
      }
    },
    {
      "cell_type": "code",
      "source": [
        "csv_path = \"/content/climate_policies.csv\"\n",
        "df.to_csv(csv_path, index=False)\n",
        "\n",
        "light_df = df[[\n",
        "    'Policy_raw', 'Year', 'Scope', 'IPCC_Region',\n",
        "    'ISO_code', 'Income_Group', 'WB_Region', 'Annex'\n",
        "]]\n",
        "light_csv_path = \"/content/climate_metadata_light.csv\"\n",
        "light_df.to_csv(light_csv_path, index=False)\n",
        "\n",
        "csv_tool = AgentFactory.create_sql_tool(\n",
        "    name=\"climate_policy_db\",\n",
        "    source=light_csv_path,\n",
        "    source_type=\"csv\",\n",
        "    enable_commit=False,\n",
        "    description=\"Lightweight metadata for USA climate policies\"\n",
        ")"
      ],
      "metadata": {
        "colab": {
          "base_uri": "https://localhost:8080/"
        },
        "id": "9Aqs8j1oyDeQ",
        "outputId": "68cd515a-cd36-4126-fb80-66970f33709b"
      },
      "execution_count": 45,
      "outputs": [
        {
          "output_type": "stream",
          "name": "stderr",
          "text": [
            "/usr/local/lib/python3.11/dist-packages/aixplain/modules/agent/tool/sql_tool.py:151: UserWarning: Column names were cleaned for SQLite compatibility: 'Policy_raw' to 'policy_raw', 'Year' to 'year', 'Scope' to 'scope', 'IPCC_Region' to 'ipcc_region', 'ISO_code' to 'iso_code', 'Income_Group' to 'income_group', 'WB_Region' to 'wb_region', 'Annex' to 'annex'\n",
            "  warnings.warn(f\"Column names were cleaned for SQLite compatibility: {changes}\")\n",
            "/usr/local/lib/python3.11/dist-packages/aixplain/modules/agent/tool/sql_tool.py:157: UserWarning: Database '/content/climate_metadata_light.db' already exists and will be modified\n",
            "  warnings.warn(f\"Database '{database_path}' already exists and will be modified\")\n",
            "/usr/local/lib/python3.11/dist-packages/aixplain/modules/agent/tool/sql_tool.py:169: UserWarning: Table 'climate_metadata_light' already exists in the database and will be replaced\n",
            "  warnings.warn(f\"Table '{table_name}' already exists in the database and will be replaced\")\n",
            "/usr/local/lib/python3.11/dist-packages/aixplain/modules/agent/tool/sql_tool.py:101: UserWarning: Column with dtype 'object' will be stored as TEXT in SQLite\n",
            "  warnings.warn(f\"Column with dtype '{dtype}' will be stored as TEXT in SQLite\")\n"
          ]
        }
      ]
    },
    {
      "cell_type": "markdown",
      "source": [
        "### Create SQL Tool"
      ],
      "metadata": {
        "id": "K0Z6nz3ZUawz"
      }
    },
    {
      "cell_type": "code",
      "source": [
        "import re\n",
        "\n",
        "def clean_html(raw_text): # clean HTML Tags from Content Text\n",
        "    if not isinstance(raw_text, str):\n",
        "        return \"\"\n",
        "    return re.sub('<[^<]+?>', '', raw_text)\n",
        "\n",
        "df[\"text\"] = df.apply(\n",
        "    lambda row: f\"\"\"Policy: {row['Policy_raw']}\n",
        "Year: {row['Year']}\n",
        "Scope: {row['Scope']}\n",
        "Region: {row['IPCC_Region']}\n",
        "Country Code: {row['ISO_code']}\n",
        "Content: {clean_html(row['Policy_Content_raw'])}\"\"\",\n",
        "    axis=1\n",
        ")"
      ],
      "metadata": {
        "id": "NIeunyeH0IFn"
      },
      "execution_count": 46,
      "outputs": []
    },
    {
      "cell_type": "markdown",
      "source": [
        "### Index Saudi Policies into a Searchable RAG Index"
      ],
      "metadata": {
        "id": "MAYNSX73U7GQ"
      }
    },
    {
      "cell_type": "code",
      "source": [
        "from aixplain.modules.model.record import Record\n",
        "\n",
        "for idx in IndexFactory.list(query=\"gccmpd-policy-index\")[\"results\"]:\n",
        "    idx.delete()\n",
        "\n",
        "# create the index\n",
        "policy_index = IndexFactory.create(\n",
        "    \"gccmpd-policy-index\",\n",
        "    \"Index of USA climate mitigation policies\"\n",
        ")\n",
        "\n",
        "# prepare records\n",
        "records = [Record(value=text) for text in df[\"text\"].tolist()]\n",
        "chunk_size = 10  # Small and safe\n",
        "\n",
        "# upload in small chunks\n",
        "for i in range(0, len(records), chunk_size):\n",
        "    batch = records[i:i + chunk_size]\n",
        "    try:\n",
        "        policy_index.upsert(batch)\n",
        "        print(f\"Uploaded {min(i + chunk_size, len(records))} / {len(records)}\")\n",
        "    except Exception as e:\n",
        "        print(f\"Failed at chunk {i}-{i+chunk_size}: {e}\")\n",
        "        break"
      ],
      "metadata": {
        "colab": {
          "base_uri": "https://localhost:8080/"
        },
        "id": "E2RJdj3AyIGp",
        "outputId": "c9ab7c46-44e4-418a-f772-e85f11d8abee"
      },
      "execution_count": 47,
      "outputs": [
        {
          "output_type": "stream",
          "name": "stdout",
          "text": [
            "Uploaded 10 / 1703\n",
            "Uploaded 20 / 1703\n",
            "Uploaded 30 / 1703\n",
            "Uploaded 40 / 1703\n",
            "Uploaded 50 / 1703\n",
            "Uploaded 60 / 1703\n",
            "Uploaded 70 / 1703\n",
            "Uploaded 80 / 1703\n",
            "Uploaded 90 / 1703\n",
            "Uploaded 100 / 1703\n",
            "Uploaded 110 / 1703\n",
            "Uploaded 120 / 1703\n",
            "Uploaded 130 / 1703\n",
            "Uploaded 140 / 1703\n",
            "Uploaded 150 / 1703\n",
            "Uploaded 160 / 1703\n",
            "Uploaded 170 / 1703\n",
            "Uploaded 180 / 1703\n",
            "Uploaded 190 / 1703\n",
            "Uploaded 200 / 1703\n",
            "Uploaded 210 / 1703\n",
            "Uploaded 220 / 1703\n",
            "Uploaded 230 / 1703\n",
            "Uploaded 240 / 1703\n",
            "Uploaded 250 / 1703\n",
            "Uploaded 260 / 1703\n",
            "Uploaded 270 / 1703\n",
            "Uploaded 280 / 1703\n",
            "Uploaded 290 / 1703\n",
            "Uploaded 300 / 1703\n",
            "Uploaded 310 / 1703\n",
            "Uploaded 320 / 1703\n",
            "Uploaded 330 / 1703\n",
            "Uploaded 340 / 1703\n",
            "Uploaded 350 / 1703\n",
            "Uploaded 360 / 1703\n",
            "Uploaded 370 / 1703\n",
            "Uploaded 380 / 1703\n",
            "Uploaded 390 / 1703\n",
            "Uploaded 400 / 1703\n",
            "Uploaded 410 / 1703\n",
            "Uploaded 420 / 1703\n",
            "Uploaded 430 / 1703\n",
            "Uploaded 440 / 1703\n",
            "Uploaded 450 / 1703\n",
            "Uploaded 460 / 1703\n",
            "Uploaded 470 / 1703\n",
            "Uploaded 480 / 1703\n",
            "Uploaded 490 / 1703\n",
            "Uploaded 500 / 1703\n",
            "Uploaded 510 / 1703\n",
            "Uploaded 520 / 1703\n",
            "Uploaded 530 / 1703\n",
            "Uploaded 540 / 1703\n",
            "Uploaded 550 / 1703\n",
            "Uploaded 560 / 1703\n",
            "Uploaded 570 / 1703\n",
            "Uploaded 580 / 1703\n",
            "Uploaded 590 / 1703\n",
            "Uploaded 600 / 1703\n",
            "Uploaded 610 / 1703\n",
            "Uploaded 620 / 1703\n",
            "Uploaded 630 / 1703\n",
            "Uploaded 640 / 1703\n",
            "Uploaded 650 / 1703\n",
            "Uploaded 660 / 1703\n",
            "Uploaded 670 / 1703\n",
            "Uploaded 680 / 1703\n",
            "Uploaded 690 / 1703\n",
            "Uploaded 700 / 1703\n",
            "Uploaded 710 / 1703\n",
            "Uploaded 720 / 1703\n",
            "Uploaded 730 / 1703\n",
            "Uploaded 740 / 1703\n",
            "Uploaded 750 / 1703\n",
            "Uploaded 760 / 1703\n",
            "Uploaded 770 / 1703\n",
            "Uploaded 780 / 1703\n",
            "Uploaded 790 / 1703\n",
            "Uploaded 800 / 1703\n",
            "Uploaded 810 / 1703\n",
            "Uploaded 820 / 1703\n",
            "Uploaded 830 / 1703\n",
            "Uploaded 840 / 1703\n",
            "Uploaded 850 / 1703\n",
            "Uploaded 860 / 1703\n",
            "Uploaded 870 / 1703\n",
            "Uploaded 880 / 1703\n",
            "Uploaded 890 / 1703\n",
            "Uploaded 900 / 1703\n",
            "Uploaded 910 / 1703\n",
            "Uploaded 920 / 1703\n",
            "Uploaded 930 / 1703\n",
            "Uploaded 940 / 1703\n",
            "Uploaded 950 / 1703\n",
            "Uploaded 960 / 1703\n",
            "Uploaded 970 / 1703\n",
            "Uploaded 980 / 1703\n",
            "Uploaded 990 / 1703\n",
            "Uploaded 1000 / 1703\n",
            "Uploaded 1010 / 1703\n",
            "Uploaded 1020 / 1703\n",
            "Uploaded 1030 / 1703\n",
            "Uploaded 1040 / 1703\n",
            "Uploaded 1050 / 1703\n",
            "Uploaded 1060 / 1703\n",
            "Uploaded 1070 / 1703\n",
            "Uploaded 1080 / 1703\n",
            "Uploaded 1090 / 1703\n",
            "Uploaded 1100 / 1703\n",
            "Uploaded 1110 / 1703\n",
            "Uploaded 1120 / 1703\n",
            "Uploaded 1130 / 1703\n",
            "Uploaded 1140 / 1703\n",
            "Uploaded 1150 / 1703\n",
            "Uploaded 1160 / 1703\n",
            "Uploaded 1170 / 1703\n",
            "Uploaded 1180 / 1703\n",
            "Uploaded 1190 / 1703\n",
            "Uploaded 1200 / 1703\n",
            "Uploaded 1210 / 1703\n",
            "Uploaded 1220 / 1703\n",
            "Uploaded 1230 / 1703\n",
            "Uploaded 1240 / 1703\n",
            "Uploaded 1250 / 1703\n",
            "Uploaded 1260 / 1703\n",
            "Uploaded 1270 / 1703\n",
            "Uploaded 1280 / 1703\n",
            "Uploaded 1290 / 1703\n",
            "Uploaded 1300 / 1703\n",
            "Uploaded 1310 / 1703\n",
            "Uploaded 1320 / 1703\n",
            "Uploaded 1330 / 1703\n",
            "Uploaded 1340 / 1703\n",
            "Uploaded 1350 / 1703\n",
            "Uploaded 1360 / 1703\n",
            "Uploaded 1370 / 1703\n",
            "Uploaded 1380 / 1703\n",
            "Uploaded 1390 / 1703\n",
            "Uploaded 1400 / 1703\n",
            "Uploaded 1410 / 1703\n",
            "Uploaded 1420 / 1703\n",
            "Uploaded 1430 / 1703\n",
            "Uploaded 1440 / 1703\n",
            "Uploaded 1450 / 1703\n",
            "Uploaded 1460 / 1703\n",
            "Uploaded 1470 / 1703\n",
            "Uploaded 1480 / 1703\n",
            "Uploaded 1490 / 1703\n",
            "Uploaded 1500 / 1703\n",
            "Uploaded 1510 / 1703\n",
            "Uploaded 1520 / 1703\n",
            "Uploaded 1530 / 1703\n",
            "Uploaded 1540 / 1703\n",
            "Uploaded 1550 / 1703\n",
            "Uploaded 1560 / 1703\n",
            "Uploaded 1570 / 1703\n",
            "Uploaded 1580 / 1703\n",
            "Uploaded 1590 / 1703\n",
            "Uploaded 1600 / 1703\n",
            "Uploaded 1610 / 1703\n",
            "Uploaded 1620 / 1703\n",
            "Uploaded 1630 / 1703\n",
            "Uploaded 1640 / 1703\n",
            "Uploaded 1650 / 1703\n",
            "Uploaded 1660 / 1703\n",
            "Uploaded 1670 / 1703\n",
            "Uploaded 1680 / 1703\n",
            "Uploaded 1690 / 1703\n",
            "Uploaded 1700 / 1703\n",
            "Uploaded 1703 / 1703\n"
          ]
        }
      ]
    },
    {
      "cell_type": "markdown",
      "source": [
        "### Create agent"
      ],
      "metadata": {
        "id": "vQjT-vveC-Pw"
      }
    },
    {
      "cell_type": "code",
      "source": [
        "agent = AgentFactory.create(\n",
        "    name=\"Climate Policy Knowledge Agent\",\n",
        "    description=\"Answers questions based on United States Of America climate policies and EPA regulations.\",\n",
        "    instructions=\"\"\"\n",
        "Use the tools below to answer climate-related policy questions:\n",
        "- Use `gccmpd-policy-index` to search U.S. climate policy text.\n",
        "- Use `EPA Climate Policies` for U.S. EPA regulations.\n",
        "- Use `climate_policy_db` to query U.S. metadata like year or scope.\n",
        "\"\"\",\n",
        "    tools=[\n",
        "        AgentFactory.create_model_tool(model=policy_index.id),\n",
        "        AgentFactory.create_model_tool(model=epa_index.id),\n",
        "        csv_tool\n",
        "    ]\n",
        ")"
      ],
      "metadata": {
        "colab": {
          "base_uri": "https://localhost:8080/"
        },
        "id": "oXcLVLkcytom",
        "outputId": "ee1079f1-02fc-47ee-9d26-beaf32c57c82"
      },
      "execution_count": 48,
      "outputs": [
        {
          "output_type": "stream",
          "name": "stderr",
          "text": [
            "/usr/local/lib/python3.11/dist-packages/aixplain/factories/agent_factory/__init__.py:83: UserWarning: Use `instructions` to define the **system prompt**. Use `description` to provide a **short summary** of the agent for metadata and dashboard display. Note: In upcoming releases, `instructions` will become a required parameter.\n",
            "  warnings.warn(\n"
          ]
        }
      ]
    },
    {
      "cell_type": "markdown",
      "source": [
        "### Example Queries Using the Agent"
      ],
      "metadata": {
        "id": "Ju5KtHysVWXo"
      }
    },
    {
      "cell_type": "code",
      "source": [
        "response = agent.run(\"What climate-related policies exist for U.S.?\")\n",
        "print(response.data.output)"
      ],
      "metadata": {
        "colab": {
          "base_uri": "https://localhost:8080/"
        },
        "id": "HMauPnMX0nqe",
        "outputId": "aaf4d649-9cd0-442b-ab4f-e19d9b1dae03"
      },
      "execution_count": 49,
      "outputs": [
        {
          "output_type": "stream",
          "name": "stdout",
          "text": [
            "The U.S. has several climate-related policies, including: 1. **Bilateral Climate and Energy Partnerships (2001)**: Focuses on international cooperation to address climate change. 2. **State and Local Climate and Energy Program (2015)**: Assists states in developing energy efficiency and renewable energy policies. 3. **Climate Finance Plan (2021)**: Aims to double public climate finance to developing countries. 4. **US CLIMATE Act of 2021**: Establishes a foreign assistance program for forest management. 5. **American Public Lands and Waters Climate Solution Act (2019)**: Studies methods to meet emission reduction targets. 6. **Executive Order on Climate-Related Financial Risk (2021)**: Addresses climate-related financial risks in federal investments. 7. **The President’s Climate Action Plan (2013)**: A comprehensive approach to cut carbon pollution and prepare for climate impacts. 8. **USDA Climate-Smart Program Changes (2021)**: Seeks public input on climate-smart agriculture practices.\n"
          ]
        }
      ]
    },
    {
      "cell_type": "code",
      "source": [
        "response = agent.run(\"How many national vs subnational climate policies does U.S. have?\")\n",
        "print(response.data.output)"
      ],
      "metadata": {
        "colab": {
          "base_uri": "https://localhost:8080/"
        },
        "id": "8Uj6BFEC0s9k",
        "outputId": "1789d558-4904-4d6e-9e8c-d6cc8cec9650"
      },
      "execution_count": 50,
      "outputs": [
        {
          "output_type": "stream",
          "name": "stdout",
          "text": [
            "The U.S. has a total of 1703 climate policies, but there are currently no national or subnational policies recorded.\n"
          ]
        }
      ]
    },
    {
      "cell_type": "code",
      "source": [
        "response = agent.run(\"Are there any policies that mention 'carbon capture'?\")\n",
        "print(response.data.output)"
      ],
      "metadata": {
        "colab": {
          "base_uri": "https://localhost:8080/"
        },
        "id": "KVOhsDDd1koS",
        "outputId": "5b9a5515-cef2-493c-9c0a-0aeb13b3e7ab"
      },
      "execution_count": 51,
      "outputs": [
        {
          "output_type": "stream",
          "name": "stdout",
          "text": [
            "There are several policies that mention 'carbon capture':\n",
            "1. **Infrastructure and Jobs Act (2021)**: Allocates $12 billion for carbon capture, utilization, and storage technology.\n",
            "2. **H.R. 5883 (2020)**: Amends the Internal Revenue Code to provide increased credits for carbon oxide sequestration for direct air capture facilities.\n",
            "3. **Program to Capture and Store CO2 (2022)**: $3.5 billion funding for capturing and storing carbon dioxide pollution directly from the air.\n",
            "4. **Carbon Capture Modernization Act (2019)**: Modifies tax credits for carbon capture and utilization systems.\n",
            "5. **Creation of a Carbon Capture Regulatory Framework (SB 905, 2022)**: Establishes a program for evaluating carbon capture technologies in California.\n",
            "6. **Clean Economy Jobs and Innovation Act (H.R. 4447, 2020)**: Requires the DOE to establish a program for large-scale carbon dioxide removal from the atmosphere.\n"
          ]
        }
      ]
    },
    {
      "cell_type": "code",
      "source": [
        "response = agent.run(\"Summarize all U.S. climate policies in under 300 words.\")\n",
        "print(response.data.output)"
      ],
      "metadata": {
        "colab": {
          "base_uri": "https://localhost:8080/"
        },
        "id": "W9jgKxmY19_B",
        "outputId": "04abf29e-3487-4914-9ca8-be29a6d25eb0"
      },
      "execution_count": 52,
      "outputs": [
        {
          "output_type": "stream",
          "name": "stdout",
          "text": [
            "The U.S. climate policies encompass a range of initiatives aimed at reducing greenhouse gas emissions, enhancing climate resilience, and promoting clean energy. Key policies include the President's Climate Action Plan (2013), which focuses on cutting carbon pollution, preparing for climate impacts, and leading international efforts. The 2021 Executive Order on Tackling the Climate Crisis aims for carbon neutrality by 2050 and establishes various task forces to address climate-related issues. The U.S. Climate Finance Plan (2021) seeks to double public climate finance to developing countries and triple adaptation finance by 2024. Additionally, the Long-Term Strategy outlines five transformations to achieve net-zero emissions by 2050, including decarbonizing electricity and reducing methane emissions. The State and Local Climate and Energy Program supports states in developing energy efficiency and renewable energy policies. Overall, these policies reflect a comprehensive approach to tackling climate change through mitigation, adaptation, and international cooperation.\n"
          ]
        }
      ]
    }
  ]
}